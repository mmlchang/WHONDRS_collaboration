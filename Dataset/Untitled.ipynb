{
 "cells": [
  {
   "cell_type": "code",
   "execution_count": null,
   "id": "73457722-e16f-44e0-9d16-eefc09a624e2",
   "metadata": {},
   "outputs": [],
   "source": [
    "# Dataframe for clustering - water\n",
    "sw = df_water.copy()\n",
    "print(\"Shape of water:\" + str(sw.shape))\n",
    "sw.head()"
   ]
  },
  {
   "cell_type": "code",
   "execution_count": null,
   "id": "7c9308f8-69a3-4172-a1da-b4ad8bac2726",
   "metadata": {},
   "outputs": [],
   "source": [
    "#### PCA on the feature (Jaccard index)"
   ]
  },
  {
   "cell_type": "code",
   "execution_count": null,
   "id": "8ff570a7-956c-4826-b4ee-0556c261d155",
   "metadata": {},
   "outputs": [],
   "source": [
    "# Dimensionality reduction\n",
    "n = 10\n",
    "\n",
    "#define PCA model to use\n",
    "pca = PCA(n_components=n)\n",
    "\n",
    "#fit PCA model to data\n",
    "pca_fit = pca.fit(sw)\n",
    "\n",
    "PC_values = np.arange(pca.n_components_) + 1\n",
    "f, axs = plt.subplots(1,2, figsize=(20,5))\n",
    "axs[0].plot(PC_values, pca.explained_variance_ratio_, 'o-', linewidth=2, color='blue')\n",
    "axs[0].title.set_text('Scree Plot')\n",
    "axs[0].set_xlabel('Principal Component')\n",
    "axs[0].set_ylabel('Variance Explained')\n",
    "axs[1].plot(range(1,n+1), pca.explained_variance_ratio_.cumsum(), marker = 'o', linestyle = '--')\n",
    "axs[1].title.set_text('Explained variance by components')\n",
    "axs[1].set_xlabel('Number of components')\n",
    "axs[1].set_ylabel('Cumulative explained variance')"
   ]
  },
  {
   "cell_type": "code",
   "execution_count": null,
   "id": "c8dbc227-fbb3-4ac9-a0dd-eb986c148ace",
   "metadata": {},
   "outputs": [],
   "source": [
    "#### k-means clustering"
   ]
  },
  {
   "cell_type": "code",
   "execution_count": null,
   "id": "1fec9c3a-dc6c-4457-9a44-9b02372f1de3",
   "metadata": {},
   "outputs": [],
   "source": [
    "# Select npc PCs based on scree plot\n",
    "npc = 3\n",
    "\n",
    "# PCA\n",
    "pca = PCA(n_components=npc)\n",
    "pca_fit = pca.fit(sw)\n",
    "X = pca.transform(sw)\n",
    "\n",
    "# Select the best k\n",
    "distortions = []\n",
    "inertias = []\n",
    "sil = []\n",
    "K = range(2,10)\n",
    "for k in K:\n",
    "    kmeanModel = KMeans(n_clusters=k, random_state=0).fit(X)\n",
    "    kmeanModel.fit(X)\n",
    "    distortions.append(sum(np.min(cdist(X, kmeanModel.cluster_centers_,'euclidean'), axis=1)) / X.shape[0])\n",
    "    inertias.append(kmeanModel.inertia_)\n",
    "    sil.append(silhouette_score(X, kmeanModel.labels_, metric = 'euclidean'))\n",
    "    \n",
    "f, axs = plt.subplots(1,3, figsize=(20,5))\n",
    "axs[0].plot(K, distortions, 'bx-')\n",
    "axs[0].title.set_text('Distortion')\n",
    "axs[1].plot(K, inertias, 'bx-')\n",
    "axs[1].title.set_text('Inertias')\n",
    "axs[2].plot(K, sil, 'bx-')\n",
    "axs[2].title.set_text('Silhouette')"
   ]
  },
  {
   "cell_type": "code",
   "execution_count": null,
   "id": "87ba9ded-0ca9-4619-98a4-13c2e84c3ea1",
   "metadata": {},
   "outputs": [],
   "source": []
  }
 ],
 "metadata": {
  "kernelspec": {
   "display_name": "Python 3 (ipykernel)",
   "language": "python",
   "name": "python3"
  },
  "language_info": {
   "codemirror_mode": {
    "name": "ipython",
    "version": 3
   },
   "file_extension": ".py",
   "mimetype": "text/x-python",
   "name": "python",
   "nbconvert_exporter": "python",
   "pygments_lexer": "ipython3",
   "version": "3.9.7"
  }
 },
 "nbformat": 4,
 "nbformat_minor": 5
}
