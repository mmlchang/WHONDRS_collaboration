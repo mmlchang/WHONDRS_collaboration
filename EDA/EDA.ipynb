{
 "cells": [
  {
   "cell_type": "markdown",
   "metadata": {
    "tags": []
   },
   "source": [
    "# Data understanding and Exploratory analysis (EDA)\n",
    "## Topic: Examining the ecological processes influencing the assembly of molecules into OM assemblages\n",
    "\n",
    "\n",
    "Dataset: 2 March 2022 from GDrive\n",
    "(1) CF for SED and Water: https://drive.google.com/drive/folders/1hm4YNib_kI5Y4k7xp4E47w8qDjUIsagA?usp=sharing\n",
    "(2) Metadata:"
   ]
  },
  {
   "cell_type": "markdown",
   "metadata": {},
   "source": [
    "## Data Processing"
   ]
  },
  {
   "cell_type": "code",
   "execution_count": 1,
   "metadata": {},
   "outputs": [],
   "source": [
    "import numpy as np\n",
    "import pandas as pd\n",
    "import matplotlib.pyplot as plt\n",
    "import seaborn as sns"
   ]
  },
  {
   "cell_type": "code",
   "execution_count": 2,
   "metadata": {},
   "outputs": [
    {
     "name": "stdout",
     "output_type": "stream",
     "text": [
      "Sediment: (239, 4053)\n",
      "Water: (265, 4936)\n",
      "4053\n",
      "4936\n",
      "2109\n",
      "(504, 6880)\n",
      "Duplicated column: False\n",
      "(504, 6882)\n"
     ]
    },
    {
     "data": {
      "text/html": [
       "<div>\n",
       "<style scoped>\n",
       "    .dataframe tbody tr th:only-of-type {\n",
       "        vertical-align: middle;\n",
       "    }\n",
       "\n",
       "    .dataframe tbody tr th {\n",
       "        vertical-align: top;\n",
       "    }\n",
       "\n",
       "    .dataframe thead th {\n",
       "        text-align: right;\n",
       "    }\n",
       "</style>\n",
       "<table border=\"1\" class=\"dataframe\">\n",
       "  <thead>\n",
       "    <tr style=\"text-align: right;\">\n",
       "      <th></th>\n",
       "      <th>sample_id</th>\n",
       "      <th>C10H10O5</th>\n",
       "      <th>C10H10O5N4</th>\n",
       "      <th>C10H10O6</th>\n",
       "      <th>C10H10O6N4</th>\n",
       "      <th>C10H10O7</th>\n",
       "      <th>C10H10O8</th>\n",
       "      <th>C10H11O4N5</th>\n",
       "      <th>C10H11O5N</th>\n",
       "      <th>C10H11O5N5</th>\n",
       "      <th>...</th>\n",
       "      <th>C9H16O5S</th>\n",
       "      <th>C9H16O9N4S</th>\n",
       "      <th>C9H20O5NS2P</th>\n",
       "      <th>C9H7O5N</th>\n",
       "      <th>C9H7O6N</th>\n",
       "      <th>C9H8O6S</th>\n",
       "      <th>C9H8O8</th>\n",
       "      <th>C9H9O6N</th>\n",
       "      <th>type</th>\n",
       "      <th>location</th>\n",
       "    </tr>\n",
       "  </thead>\n",
       "  <tbody>\n",
       "    <tr>\n",
       "      <th>0</th>\n",
       "      <td>SED_S19S.0001_D_Field</td>\n",
       "      <td>1</td>\n",
       "      <td>1.0</td>\n",
       "      <td>1</td>\n",
       "      <td>1.0</td>\n",
       "      <td>1</td>\n",
       "      <td>1</td>\n",
       "      <td>0.0</td>\n",
       "      <td>0</td>\n",
       "      <td>1.0</td>\n",
       "      <td>...</td>\n",
       "      <td>0.0</td>\n",
       "      <td>0.0</td>\n",
       "      <td>0.0</td>\n",
       "      <td>0.0</td>\n",
       "      <td>0.0</td>\n",
       "      <td>0.0</td>\n",
       "      <td>0.0</td>\n",
       "      <td>0.0</td>\n",
       "      <td>SED</td>\n",
       "      <td>D</td>\n",
       "    </tr>\n",
       "    <tr>\n",
       "      <th>1</th>\n",
       "      <td>SED_S19S.0001_M_Field</td>\n",
       "      <td>1</td>\n",
       "      <td>1.0</td>\n",
       "      <td>1</td>\n",
       "      <td>1.0</td>\n",
       "      <td>1</td>\n",
       "      <td>1</td>\n",
       "      <td>0.0</td>\n",
       "      <td>0</td>\n",
       "      <td>1.0</td>\n",
       "      <td>...</td>\n",
       "      <td>0.0</td>\n",
       "      <td>0.0</td>\n",
       "      <td>0.0</td>\n",
       "      <td>0.0</td>\n",
       "      <td>0.0</td>\n",
       "      <td>0.0</td>\n",
       "      <td>0.0</td>\n",
       "      <td>0.0</td>\n",
       "      <td>SED</td>\n",
       "      <td>M</td>\n",
       "    </tr>\n",
       "    <tr>\n",
       "      <th>2</th>\n",
       "      <td>SED_S19S.0001_U_Field</td>\n",
       "      <td>1</td>\n",
       "      <td>1.0</td>\n",
       "      <td>1</td>\n",
       "      <td>1.0</td>\n",
       "      <td>1</td>\n",
       "      <td>0</td>\n",
       "      <td>0.0</td>\n",
       "      <td>1</td>\n",
       "      <td>1.0</td>\n",
       "      <td>...</td>\n",
       "      <td>0.0</td>\n",
       "      <td>0.0</td>\n",
       "      <td>0.0</td>\n",
       "      <td>0.0</td>\n",
       "      <td>0.0</td>\n",
       "      <td>0.0</td>\n",
       "      <td>0.0</td>\n",
       "      <td>0.0</td>\n",
       "      <td>SED</td>\n",
       "      <td>U</td>\n",
       "    </tr>\n",
       "    <tr>\n",
       "      <th>3</th>\n",
       "      <td>SED_S19S.0003_D_Field</td>\n",
       "      <td>1</td>\n",
       "      <td>0.0</td>\n",
       "      <td>1</td>\n",
       "      <td>0.0</td>\n",
       "      <td>1</td>\n",
       "      <td>1</td>\n",
       "      <td>0.0</td>\n",
       "      <td>0</td>\n",
       "      <td>0.0</td>\n",
       "      <td>...</td>\n",
       "      <td>0.0</td>\n",
       "      <td>0.0</td>\n",
       "      <td>0.0</td>\n",
       "      <td>0.0</td>\n",
       "      <td>0.0</td>\n",
       "      <td>0.0</td>\n",
       "      <td>0.0</td>\n",
       "      <td>0.0</td>\n",
       "      <td>SED</td>\n",
       "      <td>D</td>\n",
       "    </tr>\n",
       "    <tr>\n",
       "      <th>4</th>\n",
       "      <td>SED_S19S.0003_M_Field</td>\n",
       "      <td>1</td>\n",
       "      <td>0.0</td>\n",
       "      <td>0</td>\n",
       "      <td>0.0</td>\n",
       "      <td>0</td>\n",
       "      <td>0</td>\n",
       "      <td>0.0</td>\n",
       "      <td>0</td>\n",
       "      <td>0.0</td>\n",
       "      <td>...</td>\n",
       "      <td>0.0</td>\n",
       "      <td>0.0</td>\n",
       "      <td>0.0</td>\n",
       "      <td>0.0</td>\n",
       "      <td>0.0</td>\n",
       "      <td>0.0</td>\n",
       "      <td>0.0</td>\n",
       "      <td>0.0</td>\n",
       "      <td>SED</td>\n",
       "      <td>M</td>\n",
       "    </tr>\n",
       "  </tbody>\n",
       "</table>\n",
       "<p>5 rows × 6882 columns</p>\n",
       "</div>"
      ],
      "text/plain": [
       "               sample_id  C10H10O5  C10H10O5N4  C10H10O6  C10H10O6N4  \\\n",
       "0  SED_S19S.0001_D_Field         1         1.0         1         1.0   \n",
       "1  SED_S19S.0001_M_Field         1         1.0         1         1.0   \n",
       "2  SED_S19S.0001_U_Field         1         1.0         1         1.0   \n",
       "3  SED_S19S.0003_D_Field         1         0.0         1         0.0   \n",
       "4  SED_S19S.0003_M_Field         1         0.0         0         0.0   \n",
       "\n",
       "   C10H10O7  C10H10O8  C10H11O4N5  C10H11O5N  C10H11O5N5  ...  C9H16O5S  \\\n",
       "0         1         1         0.0          0         1.0  ...       0.0   \n",
       "1         1         1         0.0          0         1.0  ...       0.0   \n",
       "2         1         0         0.0          1         1.0  ...       0.0   \n",
       "3         1         1         0.0          0         0.0  ...       0.0   \n",
       "4         0         0         0.0          0         0.0  ...       0.0   \n",
       "\n",
       "   C9H16O9N4S  C9H20O5NS2P  C9H7O5N  C9H7O6N  C9H8O6S  C9H8O8  C9H9O6N  type  \\\n",
       "0         0.0          0.0      0.0      0.0      0.0     0.0      0.0   SED   \n",
       "1         0.0          0.0      0.0      0.0      0.0     0.0      0.0   SED   \n",
       "2         0.0          0.0      0.0      0.0      0.0     0.0      0.0   SED   \n",
       "3         0.0          0.0      0.0      0.0      0.0     0.0      0.0   SED   \n",
       "4         0.0          0.0      0.0      0.0      0.0     0.0      0.0   SED   \n",
       "\n",
       "   location  \n",
       "0         D  \n",
       "1         M  \n",
       "2         U  \n",
       "3         D  \n",
       "4         M  \n",
       "\n",
       "[5 rows x 6882 columns]"
      ]
     },
     "execution_count": 2,
     "metadata": {},
     "output_type": "execute_result"
    }
   ],
   "source": [
    "# Load dataset\n",
    "fn_sed = \"../Dataset/Sediment_Prevalence_10__commat_2021-09-29.csv\"\n",
    "fn_water = \"../Dataset/Water_Prevalence_10__commat_2021-09-29.csv\"\n",
    "df_sed = pd.read_csv(fn_sed)\n",
    "print('Sediment: ' + str(df_sed.shape))\n",
    "\n",
    "df_water = pd.read_csv(fn_water)\n",
    "print('Water: ' + str(df_water.shape))\n",
    "\n",
    "# Data quality check\n",
    "print(df_sed.columns.nunique())\n",
    "print(df_water.columns.nunique())\n",
    "\n",
    "# Check how many overlapping CF\n",
    "print(len(set(df_sed.columns).intersection(set(df_water.columns))))\n",
    "\n",
    "# Join datasets\n",
    "df = pd.concat([df_sed, df_water], join=\"outer\")\n",
    "print(df.shape)\n",
    "\n",
    "# Check if there is any identical columns / CF across all samples\n",
    "print(\"Duplicated column: \" + str(df.columns.duplicated().any()))\n",
    "\n",
    "# Pre-processing\n",
    "df = df.rename(columns={\"Unnamed: 0\": \"sample_id\"})\n",
    "df = df.set_index(\"sample_id\").fillna(0).reset_index()\n",
    "df['type'] = df['sample_id'].str.split('_').str[0]\n",
    "df['location'] = df['sample_id'].str.split('_').str[-2]\n",
    "print(df.shape)\n",
    "df.head()"
   ]
  },
  {
   "cell_type": "code",
   "execution_count": 3,
   "metadata": {},
   "outputs": [
    {
     "data": {
      "text/html": [
       "<div>\n",
       "<style scoped>\n",
       "    .dataframe tbody tr th:only-of-type {\n",
       "        vertical-align: middle;\n",
       "    }\n",
       "\n",
       "    .dataframe tbody tr th {\n",
       "        vertical-align: top;\n",
       "    }\n",
       "\n",
       "    .dataframe thead th {\n",
       "        text-align: right;\n",
       "    }\n",
       "</style>\n",
       "<table border=\"1\" class=\"dataframe\">\n",
       "  <thead>\n",
       "    <tr style=\"text-align: right;\">\n",
       "      <th></th>\n",
       "      <th>C10H10O5</th>\n",
       "      <th>C10H10O5N4</th>\n",
       "      <th>C10H10O6</th>\n",
       "      <th>C10H10O6N4</th>\n",
       "      <th>C10H10O7</th>\n",
       "      <th>C10H10O8</th>\n",
       "      <th>C10H11O4N5</th>\n",
       "      <th>C10H11O5N</th>\n",
       "      <th>C10H11O5N5</th>\n",
       "      <th>C10H11O6N</th>\n",
       "      <th>...</th>\n",
       "      <th>C9H7O5N</th>\n",
       "      <th>C9H7O6N</th>\n",
       "      <th>C9H8O6S</th>\n",
       "      <th>C9H8O8</th>\n",
       "      <th>C9H9O6N</th>\n",
       "      <th>SED</th>\n",
       "      <th>SW</th>\n",
       "      <th>D</th>\n",
       "      <th>M</th>\n",
       "      <th>U</th>\n",
       "    </tr>\n",
       "    <tr>\n",
       "      <th>sample_id</th>\n",
       "      <th></th>\n",
       "      <th></th>\n",
       "      <th></th>\n",
       "      <th></th>\n",
       "      <th></th>\n",
       "      <th></th>\n",
       "      <th></th>\n",
       "      <th></th>\n",
       "      <th></th>\n",
       "      <th></th>\n",
       "      <th></th>\n",
       "      <th></th>\n",
       "      <th></th>\n",
       "      <th></th>\n",
       "      <th></th>\n",
       "      <th></th>\n",
       "      <th></th>\n",
       "      <th></th>\n",
       "      <th></th>\n",
       "      <th></th>\n",
       "      <th></th>\n",
       "    </tr>\n",
       "  </thead>\n",
       "  <tbody>\n",
       "    <tr>\n",
       "      <th>SED_S19S.0001_D_Field</th>\n",
       "      <td>1</td>\n",
       "      <td>1</td>\n",
       "      <td>1</td>\n",
       "      <td>1</td>\n",
       "      <td>1</td>\n",
       "      <td>1</td>\n",
       "      <td>0</td>\n",
       "      <td>0</td>\n",
       "      <td>1</td>\n",
       "      <td>0</td>\n",
       "      <td>...</td>\n",
       "      <td>0</td>\n",
       "      <td>0</td>\n",
       "      <td>0</td>\n",
       "      <td>0</td>\n",
       "      <td>0</td>\n",
       "      <td>1</td>\n",
       "      <td>0</td>\n",
       "      <td>1</td>\n",
       "      <td>0</td>\n",
       "      <td>0</td>\n",
       "    </tr>\n",
       "    <tr>\n",
       "      <th>SED_S19S.0001_M_Field</th>\n",
       "      <td>1</td>\n",
       "      <td>1</td>\n",
       "      <td>1</td>\n",
       "      <td>1</td>\n",
       "      <td>1</td>\n",
       "      <td>1</td>\n",
       "      <td>0</td>\n",
       "      <td>0</td>\n",
       "      <td>1</td>\n",
       "      <td>0</td>\n",
       "      <td>...</td>\n",
       "      <td>0</td>\n",
       "      <td>0</td>\n",
       "      <td>0</td>\n",
       "      <td>0</td>\n",
       "      <td>0</td>\n",
       "      <td>1</td>\n",
       "      <td>0</td>\n",
       "      <td>0</td>\n",
       "      <td>1</td>\n",
       "      <td>0</td>\n",
       "    </tr>\n",
       "    <tr>\n",
       "      <th>SED_S19S.0001_U_Field</th>\n",
       "      <td>1</td>\n",
       "      <td>1</td>\n",
       "      <td>1</td>\n",
       "      <td>1</td>\n",
       "      <td>1</td>\n",
       "      <td>0</td>\n",
       "      <td>0</td>\n",
       "      <td>1</td>\n",
       "      <td>1</td>\n",
       "      <td>0</td>\n",
       "      <td>...</td>\n",
       "      <td>0</td>\n",
       "      <td>0</td>\n",
       "      <td>0</td>\n",
       "      <td>0</td>\n",
       "      <td>0</td>\n",
       "      <td>1</td>\n",
       "      <td>0</td>\n",
       "      <td>0</td>\n",
       "      <td>0</td>\n",
       "      <td>1</td>\n",
       "    </tr>\n",
       "    <tr>\n",
       "      <th>SED_S19S.0003_D_Field</th>\n",
       "      <td>1</td>\n",
       "      <td>0</td>\n",
       "      <td>1</td>\n",
       "      <td>0</td>\n",
       "      <td>1</td>\n",
       "      <td>1</td>\n",
       "      <td>0</td>\n",
       "      <td>0</td>\n",
       "      <td>0</td>\n",
       "      <td>0</td>\n",
       "      <td>...</td>\n",
       "      <td>0</td>\n",
       "      <td>0</td>\n",
       "      <td>0</td>\n",
       "      <td>0</td>\n",
       "      <td>0</td>\n",
       "      <td>1</td>\n",
       "      <td>0</td>\n",
       "      <td>1</td>\n",
       "      <td>0</td>\n",
       "      <td>0</td>\n",
       "    </tr>\n",
       "    <tr>\n",
       "      <th>SED_S19S.0003_M_Field</th>\n",
       "      <td>1</td>\n",
       "      <td>0</td>\n",
       "      <td>0</td>\n",
       "      <td>0</td>\n",
       "      <td>0</td>\n",
       "      <td>0</td>\n",
       "      <td>0</td>\n",
       "      <td>0</td>\n",
       "      <td>0</td>\n",
       "      <td>0</td>\n",
       "      <td>...</td>\n",
       "      <td>0</td>\n",
       "      <td>0</td>\n",
       "      <td>0</td>\n",
       "      <td>0</td>\n",
       "      <td>0</td>\n",
       "      <td>1</td>\n",
       "      <td>0</td>\n",
       "      <td>0</td>\n",
       "      <td>1</td>\n",
       "      <td>0</td>\n",
       "    </tr>\n",
       "  </tbody>\n",
       "</table>\n",
       "<p>5 rows × 6884 columns</p>\n",
       "</div>"
      ],
      "text/plain": [
       "                       C10H10O5  C10H10O5N4  C10H10O6  C10H10O6N4  C10H10O7  \\\n",
       "sample_id                                                                     \n",
       "SED_S19S.0001_D_Field         1           1         1           1         1   \n",
       "SED_S19S.0001_M_Field         1           1         1           1         1   \n",
       "SED_S19S.0001_U_Field         1           1         1           1         1   \n",
       "SED_S19S.0003_D_Field         1           0         1           0         1   \n",
       "SED_S19S.0003_M_Field         1           0         0           0         0   \n",
       "\n",
       "                       C10H10O8  C10H11O4N5  C10H11O5N  C10H11O5N5  C10H11O6N  \\\n",
       "sample_id                                                                       \n",
       "SED_S19S.0001_D_Field         1           0          0           1          0   \n",
       "SED_S19S.0001_M_Field         1           0          0           1          0   \n",
       "SED_S19S.0001_U_Field         0           0          1           1          0   \n",
       "SED_S19S.0003_D_Field         1           0          0           0          0   \n",
       "SED_S19S.0003_M_Field         0           0          0           0          0   \n",
       "\n",
       "                       ...  C9H7O5N  C9H7O6N  C9H8O6S  C9H8O8  C9H9O6N  SED  \\\n",
       "sample_id              ...                                                    \n",
       "SED_S19S.0001_D_Field  ...        0        0        0       0        0    1   \n",
       "SED_S19S.0001_M_Field  ...        0        0        0       0        0    1   \n",
       "SED_S19S.0001_U_Field  ...        0        0        0       0        0    1   \n",
       "SED_S19S.0003_D_Field  ...        0        0        0       0        0    1   \n",
       "SED_S19S.0003_M_Field  ...        0        0        0       0        0    1   \n",
       "\n",
       "                       SW  D  M  U  \n",
       "sample_id                           \n",
       "SED_S19S.0001_D_Field   0  1  0  0  \n",
       "SED_S19S.0001_M_Field   0  0  1  0  \n",
       "SED_S19S.0001_U_Field   0  0  0  1  \n",
       "SED_S19S.0003_D_Field   0  1  0  0  \n",
       "SED_S19S.0003_M_Field   0  0  1  0  \n",
       "\n",
       "[5 rows x 6884 columns]"
      ]
     },
     "execution_count": 3,
     "metadata": {},
     "output_type": "execute_result"
    }
   ],
   "source": [
    "from sklearn.preprocessing import OneHotEncoder\n",
    "\n",
    "#creating instance of one-hot-encoder\n",
    "encoder = OneHotEncoder(handle_unknown='ignore')\n",
    "\n",
    "#perform one-hot encoding on 'team' column \n",
    "encoder_df = pd.DataFrame(encoder.fit_transform(df[['type','location']]).toarray())\n",
    "encoder_df.columns = ['SED','SW','D','M','U']\n",
    "#merge one-hot encoded columns back with original DataFrame\n",
    "final_df = df.join(encoder_df).set_index('sample_id')\n",
    "final_df.drop(['type', 'location'], axis='columns', inplace=True)\n",
    "final_df = final_df.apply(pd.to_numeric).astype(int)\n",
    "final_df.head()"
   ]
  },
  {
   "cell_type": "code",
   "execution_count": 4,
   "metadata": {},
   "outputs": [],
   "source": [
    "#final_df.to_csv('all.csv')"
   ]
  },
  {
   "cell_type": "code",
   "execution_count": 5,
   "metadata": {},
   "outputs": [
    {
     "data": {
      "text/plain": [
       "SED  SW  D  M  U\n",
       "0    1   0  0  1    265\n",
       "1    0   0  1  0     83\n",
       "            0  1     80\n",
       "         1  0  0     76\n",
       "dtype: int64"
      ]
     },
     "execution_count": 5,
     "metadata": {},
     "output_type": "execute_result"
    }
   ],
   "source": [
    "col = ['SED','SW','D','M','U']\n",
    "final_df[col].value_counts()"
   ]
  },
  {
   "cell_type": "code",
   "execution_count": 6,
   "metadata": {},
   "outputs": [
    {
     "data": {
      "text/html": [
       "<div>\n",
       "<style scoped>\n",
       "    .dataframe tbody tr th:only-of-type {\n",
       "        vertical-align: middle;\n",
       "    }\n",
       "\n",
       "    .dataframe tbody tr th {\n",
       "        vertical-align: top;\n",
       "    }\n",
       "\n",
       "    .dataframe thead th {\n",
       "        text-align: right;\n",
       "    }\n",
       "</style>\n",
       "<table border=\"1\" class=\"dataframe\">\n",
       "  <thead>\n",
       "    <tr style=\"text-align: right;\">\n",
       "      <th></th>\n",
       "      <th>0</th>\n",
       "      <th>1</th>\n",
       "      <th>2</th>\n",
       "      <th>3</th>\n",
       "    </tr>\n",
       "  </thead>\n",
       "  <tbody>\n",
       "    <tr>\n",
       "      <th>C10H10O5</th>\n",
       "      <td>245</td>\n",
       "      <td>74</td>\n",
       "      <td>75</td>\n",
       "      <td>71</td>\n",
       "    </tr>\n",
       "    <tr>\n",
       "      <th>C10H10O5N4</th>\n",
       "      <td>0</td>\n",
       "      <td>60</td>\n",
       "      <td>63</td>\n",
       "      <td>53</td>\n",
       "    </tr>\n",
       "    <tr>\n",
       "      <th>C10H10O6</th>\n",
       "      <td>250</td>\n",
       "      <td>69</td>\n",
       "      <td>66</td>\n",
       "      <td>63</td>\n",
       "    </tr>\n",
       "    <tr>\n",
       "      <th>C10H10O6N4</th>\n",
       "      <td>0</td>\n",
       "      <td>42</td>\n",
       "      <td>41</td>\n",
       "      <td>40</td>\n",
       "    </tr>\n",
       "    <tr>\n",
       "      <th>C10H10O7</th>\n",
       "      <td>234</td>\n",
       "      <td>60</td>\n",
       "      <td>53</td>\n",
       "      <td>54</td>\n",
       "    </tr>\n",
       "  </tbody>\n",
       "</table>\n",
       "</div>"
      ],
      "text/plain": [
       "              0   1   2   3\n",
       "C10H10O5    245  74  75  71\n",
       "C10H10O5N4    0  60  63  53\n",
       "C10H10O6    250  69  66  63\n",
       "C10H10O6N4    0  42  41  40\n",
       "C10H10O7    234  60  53  54"
      ]
     },
     "execution_count": 6,
     "metadata": {},
     "output_type": "execute_result"
    }
   ],
   "source": [
    "temp = final_df.groupby(col).sum().reset_index(drop=True).T\n",
    "temp.head(5)"
   ]
  },
  {
   "cell_type": "code",
   "execution_count": 7,
   "metadata": {},
   "outputs": [
    {
     "data": {
      "image/png": "[encoded data removed]",
      "text/plain": [
       "<Figure size 432x288 with 1 Axes>"
      ]
     },
     "metadata": {
      "needs_background": "light"
     },
     "output_type": "display_data"
    }
   ],
   "source": [
    "plt.hist(temp[0])\n",
    "plt.show()"
   ]
  },
  {
   "cell_type": "code",
   "execution_count": null,
   "metadata": {},
   "outputs": [],
   "source": []
  },
  {
   "cell_type": "code",
   "execution_count": null,
   "metadata": {},
   "outputs": [],
   "source": []
  },
  {
   "cell_type": "markdown",
   "metadata": {},
   "source": [
    "Questions to clarify before further analysis:\n",
    "    \n",
    "    (1) SED, SW, D, M, U (2 types, 3 locations = 6 categories) with CF? >> There are only four categories: SED_D, SED_M, SED_U and SW_U\n",
    "    (2) Prior knowledge on CF for feature engineering e.g. common CF, rare CF etc. >> we do know the unique CF only in SED or SW only, we are interested in the overlap?\n",
    "    (3) Data understanding from topic 1 slide: Core and satellite? \n",
    "    (4) Clustering: on metadata? on CF? Does it make sense to reduce the dimensions of CF using PCA? or can we engineer feature based on the CF? Expecting to find plant-based, microbial-based >> what data tell you this\n",
    "    (5) Definition of clusters >> Unsupervised doesn't make sense if we already know the cluster is the categories\n",
    "    (6) Need to clarify the research question: keywords of ecological processes, assembly of molecules, OM"
   ]
  },
  {
   "cell_type": "raw",
   "metadata": {},
   "source": [
    "## Focus only on Water samples, then group CF via unsupervised algorithm: - association rule, high dimensional binary, diversity index "
   ]
  },
  {
   "cell_type": "code",
   "execution_count": null,
   "metadata": {},
   "outputs": [],
   "source": []
  },
  {
   "cell_type": "markdown",
   "metadata": {
    "tags": []
   },
   "source": [
    "## Clustering the water samples based on principal components after normalisation across row and col for high dimensional binary data"
   ]
  },
  {
   "cell_type": "code",
   "execution_count": 8,
   "metadata": {},
   "outputs": [
    {
     "name": "stdout",
     "output_type": "stream",
     "text": [
      "Shape:(265, 4935)\n"
     ]
    },
    {
     "data": {
      "text/plain": [
       "<AxesSubplot:>"
      ]
     },
     "execution_count": 8,
     "metadata": {},
     "output_type": "execute_result"
    },
    {
     "data": {
      "image/png": "[encoded data removed]",
      "text/plain": [
       "<Figure size 432x288 with 1 Axes>"
      ]
     },
     "metadata": {
      "needs_background": "light"
     },
     "output_type": "display_data"
    }
   ],
   "source": [
    "sw = pd.DataFrame(final_df[(final_df['SW']==1)].iloc[:,:-5])\n",
    "sw = sw.loc[:, (sw != 0).any(axis=0)]\n",
    "print(\"Shape:\" + str(sw.shape))\n",
    "sw.sum().hist()"
   ]
  },
  {
   "cell_type": "code",
   "execution_count": 9,
   "metadata": {},
   "outputs": [
    {
     "name": "stdout",
     "output_type": "stream",
     "text": [
      "372 CF appear in almost all sample, to be removed.\n"
     ]
    },
    {
     "data": {
      "text/plain": [
       "(265, 4563)"
      ]
     },
     "execution_count": 9,
     "metadata": {},
     "output_type": "execute_result"
    }
   ],
   "source": [
    "# CF to be dropped due to high appearance\n",
    "threshold = 264\n",
    "to_remove = (sw.sum() >= threshold)\n",
    "cols_to_drop = to_remove[to_remove].index\n",
    "print(str(len(cols_to_drop)) + \" CF appear in almost all sample, to be removed.\")\n",
    "sw = sw.drop(cols_to_drop, axis=1)\n",
    "sw.shape"
   ]
  },
  {
   "cell_type": "code",
   "execution_count": 10,
   "metadata": {},
   "outputs": [
    {
     "data": {
      "text/html": [
       "<div>\n",
       "<style scoped>\n",
       "    .dataframe tbody tr th:only-of-type {\n",
       "        vertical-align: middle;\n",
       "    }\n",
       "\n",
       "    .dataframe tbody tr th {\n",
       "        vertical-align: top;\n",
       "    }\n",
       "\n",
       "    .dataframe thead th {\n",
       "        text-align: right;\n",
       "    }\n",
       "</style>\n",
       "<table border=\"1\" class=\"dataframe\">\n",
       "  <thead>\n",
       "    <tr style=\"text-align: right;\">\n",
       "      <th></th>\n",
       "      <th>C10H10O5</th>\n",
       "      <th>C10H10O6</th>\n",
       "      <th>C10H10O7</th>\n",
       "      <th>C10H10O8</th>\n",
       "      <th>C10H11O5N</th>\n",
       "      <th>C10H11O6N</th>\n",
       "      <th>C10H12O5</th>\n",
       "      <th>C10H12O5N2</th>\n",
       "      <th>C10H12O5S</th>\n",
       "      <th>C10H12O6</th>\n",
       "      <th>...</th>\n",
       "      <th>C9H14O5S</th>\n",
       "      <th>C9H14O6S</th>\n",
       "      <th>C9H16O5S</th>\n",
       "      <th>C9H16O9N4S</th>\n",
       "      <th>C9H20O5NS2P</th>\n",
       "      <th>C9H7O5N</th>\n",
       "      <th>C9H7O6N</th>\n",
       "      <th>C9H8O6S</th>\n",
       "      <th>C9H8O8</th>\n",
       "      <th>C9H9O6N</th>\n",
       "    </tr>\n",
       "    <tr>\n",
       "      <th>sample_id</th>\n",
       "      <th></th>\n",
       "      <th></th>\n",
       "      <th></th>\n",
       "      <th></th>\n",
       "      <th></th>\n",
       "      <th></th>\n",
       "      <th></th>\n",
       "      <th></th>\n",
       "      <th></th>\n",
       "      <th></th>\n",
       "      <th></th>\n",
       "      <th></th>\n",
       "      <th></th>\n",
       "      <th></th>\n",
       "      <th></th>\n",
       "      <th></th>\n",
       "      <th></th>\n",
       "      <th></th>\n",
       "      <th></th>\n",
       "      <th></th>\n",
       "      <th></th>\n",
       "    </tr>\n",
       "  </thead>\n",
       "  <tbody>\n",
       "    <tr>\n",
       "      <th>SW_S19S.0003_U_1</th>\n",
       "      <td>0.000509</td>\n",
       "      <td>0.000509</td>\n",
       "      <td>0.000509</td>\n",
       "      <td>0.000509</td>\n",
       "      <td>0.000509</td>\n",
       "      <td>0.000509</td>\n",
       "      <td>0.000509</td>\n",
       "      <td>0.000509</td>\n",
       "      <td>0.0</td>\n",
       "      <td>0.000509</td>\n",
       "      <td>...</td>\n",
       "      <td>0.0</td>\n",
       "      <td>0.0</td>\n",
       "      <td>0.0</td>\n",
       "      <td>0.000000</td>\n",
       "      <td>0.0</td>\n",
       "      <td>0.0000</td>\n",
       "      <td>0.0</td>\n",
       "      <td>0.0</td>\n",
       "      <td>0.000509</td>\n",
       "      <td>0.000509</td>\n",
       "    </tr>\n",
       "    <tr>\n",
       "      <th>SW_S19S.0003_U_2</th>\n",
       "      <td>0.000457</td>\n",
       "      <td>0.000457</td>\n",
       "      <td>0.000457</td>\n",
       "      <td>0.000457</td>\n",
       "      <td>0.000457</td>\n",
       "      <td>0.000457</td>\n",
       "      <td>0.000457</td>\n",
       "      <td>0.000457</td>\n",
       "      <td>0.0</td>\n",
       "      <td>0.000457</td>\n",
       "      <td>...</td>\n",
       "      <td>0.0</td>\n",
       "      <td>0.0</td>\n",
       "      <td>0.0</td>\n",
       "      <td>0.000457</td>\n",
       "      <td>0.0</td>\n",
       "      <td>0.0000</td>\n",
       "      <td>0.0</td>\n",
       "      <td>0.0</td>\n",
       "      <td>0.000000</td>\n",
       "      <td>0.000457</td>\n",
       "    </tr>\n",
       "    <tr>\n",
       "      <th>SW_S19S.0003_U_3</th>\n",
       "      <td>0.000415</td>\n",
       "      <td>0.000415</td>\n",
       "      <td>0.000415</td>\n",
       "      <td>0.000415</td>\n",
       "      <td>0.000415</td>\n",
       "      <td>0.000415</td>\n",
       "      <td>0.000415</td>\n",
       "      <td>0.000415</td>\n",
       "      <td>0.0</td>\n",
       "      <td>0.000415</td>\n",
       "      <td>...</td>\n",
       "      <td>0.0</td>\n",
       "      <td>0.0</td>\n",
       "      <td>0.0</td>\n",
       "      <td>0.000000</td>\n",
       "      <td>0.0</td>\n",
       "      <td>0.0000</td>\n",
       "      <td>0.0</td>\n",
       "      <td>0.0</td>\n",
       "      <td>0.000000</td>\n",
       "      <td>0.000415</td>\n",
       "    </tr>\n",
       "    <tr>\n",
       "      <th>SW_S19S.0004_U_1</th>\n",
       "      <td>0.000408</td>\n",
       "      <td>0.000408</td>\n",
       "      <td>0.000408</td>\n",
       "      <td>0.000408</td>\n",
       "      <td>0.000408</td>\n",
       "      <td>0.000408</td>\n",
       "      <td>0.000408</td>\n",
       "      <td>0.000408</td>\n",
       "      <td>0.0</td>\n",
       "      <td>0.000408</td>\n",
       "      <td>...</td>\n",
       "      <td>0.0</td>\n",
       "      <td>0.0</td>\n",
       "      <td>0.0</td>\n",
       "      <td>0.000000</td>\n",
       "      <td>0.0</td>\n",
       "      <td>0.0000</td>\n",
       "      <td>0.0</td>\n",
       "      <td>0.0</td>\n",
       "      <td>0.000000</td>\n",
       "      <td>0.000408</td>\n",
       "    </tr>\n",
       "    <tr>\n",
       "      <th>SW_S19S.0004_U_2</th>\n",
       "      <td>0.000400</td>\n",
       "      <td>0.000400</td>\n",
       "      <td>0.000400</td>\n",
       "      <td>0.000400</td>\n",
       "      <td>0.000400</td>\n",
       "      <td>0.000400</td>\n",
       "      <td>0.000400</td>\n",
       "      <td>0.000400</td>\n",
       "      <td>0.0</td>\n",
       "      <td>0.000400</td>\n",
       "      <td>...</td>\n",
       "      <td>0.0</td>\n",
       "      <td>0.0</td>\n",
       "      <td>0.0</td>\n",
       "      <td>0.000400</td>\n",
       "      <td>0.0</td>\n",
       "      <td>0.0004</td>\n",
       "      <td>0.0</td>\n",
       "      <td>0.0</td>\n",
       "      <td>0.000400</td>\n",
       "      <td>0.000400</td>\n",
       "    </tr>\n",
       "  </tbody>\n",
       "</table>\n",
       "<p>5 rows × 4563 columns</p>\n",
       "</div>"
      ],
      "text/plain": [
       "                  C10H10O5  C10H10O6  C10H10O7  C10H10O8  C10H11O5N  \\\n",
       "sample_id                                                             \n",
       "SW_S19S.0003_U_1  0.000509  0.000509  0.000509  0.000509   0.000509   \n",
       "SW_S19S.0003_U_2  0.000457  0.000457  0.000457  0.000457   0.000457   \n",
       "SW_S19S.0003_U_3  0.000415  0.000415  0.000415  0.000415   0.000415   \n",
       "SW_S19S.0004_U_1  0.000408  0.000408  0.000408  0.000408   0.000408   \n",
       "SW_S19S.0004_U_2  0.000400  0.000400  0.000400  0.000400   0.000400   \n",
       "\n",
       "                  C10H11O6N  C10H12O5  C10H12O5N2  C10H12O5S  C10H12O6  ...  \\\n",
       "sample_id                                                               ...   \n",
       "SW_S19S.0003_U_1   0.000509  0.000509    0.000509        0.0  0.000509  ...   \n",
       "SW_S19S.0003_U_2   0.000457  0.000457    0.000457        0.0  0.000457  ...   \n",
       "SW_S19S.0003_U_3   0.000415  0.000415    0.000415        0.0  0.000415  ...   \n",
       "SW_S19S.0004_U_1   0.000408  0.000408    0.000408        0.0  0.000408  ...   \n",
       "SW_S19S.0004_U_2   0.000400  0.000400    0.000400        0.0  0.000400  ...   \n",
       "\n",
       "                  C9H14O5S  C9H14O6S  C9H16O5S  C9H16O9N4S  C9H20O5NS2P  \\\n",
       "sample_id                                                                 \n",
       "SW_S19S.0003_U_1       0.0       0.0       0.0    0.000000          0.0   \n",
       "SW_S19S.0003_U_2       0.0       0.0       0.0    0.000457          0.0   \n",
       "SW_S19S.0003_U_3       0.0       0.0       0.0    0.000000          0.0   \n",
       "SW_S19S.0004_U_1       0.0       0.0       0.0    0.000000          0.0   \n",
       "SW_S19S.0004_U_2       0.0       0.0       0.0    0.000400          0.0   \n",
       "\n",
       "                  C9H7O5N  C9H7O6N  C9H8O6S    C9H8O8   C9H9O6N  \n",
       "sample_id                                                        \n",
       "SW_S19S.0003_U_1   0.0000      0.0      0.0  0.000509  0.000509  \n",
       "SW_S19S.0003_U_2   0.0000      0.0      0.0  0.000000  0.000457  \n",
       "SW_S19S.0003_U_3   0.0000      0.0      0.0  0.000000  0.000415  \n",
       "SW_S19S.0004_U_1   0.0000      0.0      0.0  0.000000  0.000408  \n",
       "SW_S19S.0004_U_2   0.0004      0.0      0.0  0.000400  0.000400  \n",
       "\n",
       "[5 rows x 4563 columns]"
      ]
     },
     "execution_count": 10,
     "metadata": {},
     "output_type": "execute_result"
    }
   ],
   "source": [
    "nsw = sw.div(sw.sum(axis=1), axis=0)\n",
    "nsw.head()"
   ]
  },
  {
   "cell_type": "code",
   "execution_count": 11,
   "metadata": {},
   "outputs": [
    {
     "data": {
      "text/html": [
       "<div>\n",
       "<style scoped>\n",
       "    .dataframe tbody tr th:only-of-type {\n",
       "        vertical-align: middle;\n",
       "    }\n",
       "\n",
       "    .dataframe tbody tr th {\n",
       "        vertical-align: top;\n",
       "    }\n",
       "\n",
       "    .dataframe thead th {\n",
       "        text-align: right;\n",
       "    }\n",
       "</style>\n",
       "<table border=\"1\" class=\"dataframe\">\n",
       "  <thead>\n",
       "    <tr style=\"text-align: right;\">\n",
       "      <th></th>\n",
       "      <th>C10H10O5</th>\n",
       "      <th>C10H10O6</th>\n",
       "      <th>C10H10O7</th>\n",
       "      <th>C10H10O8</th>\n",
       "      <th>C10H11O5N</th>\n",
       "      <th>C10H11O6N</th>\n",
       "      <th>C10H12O5</th>\n",
       "      <th>C10H12O5N2</th>\n",
       "      <th>C10H12O5S</th>\n",
       "      <th>C10H12O6</th>\n",
       "      <th>...</th>\n",
       "      <th>C9H14O5S</th>\n",
       "      <th>C9H14O6S</th>\n",
       "      <th>C9H16O5S</th>\n",
       "      <th>C9H16O9N4S</th>\n",
       "      <th>C9H20O5NS2P</th>\n",
       "      <th>C9H7O5N</th>\n",
       "      <th>C9H7O6N</th>\n",
       "      <th>C9H8O6S</th>\n",
       "      <th>C9H8O8</th>\n",
       "      <th>C9H9O6N</th>\n",
       "    </tr>\n",
       "  </thead>\n",
       "  <tbody>\n",
       "    <tr>\n",
       "      <th>0</th>\n",
       "      <td>0.461775</td>\n",
       "      <td>0.456889</td>\n",
       "      <td>0.667817</td>\n",
       "      <td>0.705142</td>\n",
       "      <td>1.000721</td>\n",
       "      <td>1.080024</td>\n",
       "      <td>0.378268</td>\n",
       "      <td>0.190074</td>\n",
       "      <td>-0.642769</td>\n",
       "      <td>0.505935</td>\n",
       "      <td>...</td>\n",
       "      <td>-0.409861</td>\n",
       "      <td>-0.451601</td>\n",
       "      <td>-0.380949</td>\n",
       "      <td>-0.527185</td>\n",
       "      <td>-0.301082</td>\n",
       "      <td>-0.415012</td>\n",
       "      <td>-0.566674</td>\n",
       "      <td>-0.361288</td>\n",
       "      <td>2.900496</td>\n",
       "      <td>1.404275</td>\n",
       "    </tr>\n",
       "    <tr>\n",
       "      <th>1</th>\n",
       "      <td>0.175323</td>\n",
       "      <td>0.150762</td>\n",
       "      <td>0.367911</td>\n",
       "      <td>0.411420</td>\n",
       "      <td>0.760714</td>\n",
       "      <td>0.838187</td>\n",
       "      <td>0.083199</td>\n",
       "      <td>-0.079566</td>\n",
       "      <td>-0.642769</td>\n",
       "      <td>0.209392</td>\n",
       "      <td>...</td>\n",
       "      <td>-0.409861</td>\n",
       "      <td>-0.451601</td>\n",
       "      <td>-0.380949</td>\n",
       "      <td>1.976289</td>\n",
       "      <td>-0.301082</td>\n",
       "      <td>-0.415012</td>\n",
       "      <td>-0.566674</td>\n",
       "      <td>-0.361288</td>\n",
       "      <td>-0.477020</td>\n",
       "      <td>1.166141</td>\n",
       "    </tr>\n",
       "    <tr>\n",
       "      <th>2</th>\n",
       "      <td>-0.054888</td>\n",
       "      <td>-0.095260</td>\n",
       "      <td>0.126888</td>\n",
       "      <td>0.175368</td>\n",
       "      <td>0.567829</td>\n",
       "      <td>0.643832</td>\n",
       "      <td>-0.153937</td>\n",
       "      <td>-0.296266</td>\n",
       "      <td>-0.642769</td>\n",
       "      <td>-0.028928</td>\n",
       "      <td>...</td>\n",
       "      <td>-0.409861</td>\n",
       "      <td>-0.451601</td>\n",
       "      <td>-0.380949</td>\n",
       "      <td>-0.527185</td>\n",
       "      <td>-0.301082</td>\n",
       "      <td>-0.415012</td>\n",
       "      <td>-0.566674</td>\n",
       "      <td>-0.361288</td>\n",
       "      <td>-0.477020</td>\n",
       "      <td>0.974762</td>\n",
       "    </tr>\n",
       "    <tr>\n",
       "      <th>3</th>\n",
       "      <td>-0.092843</td>\n",
       "      <td>-0.135821</td>\n",
       "      <td>0.087152</td>\n",
       "      <td>0.136450</td>\n",
       "      <td>0.536028</td>\n",
       "      <td>0.611789</td>\n",
       "      <td>-0.193033</td>\n",
       "      <td>-0.331992</td>\n",
       "      <td>-0.642769</td>\n",
       "      <td>-0.068219</td>\n",
       "      <td>...</td>\n",
       "      <td>-0.409861</td>\n",
       "      <td>-0.451601</td>\n",
       "      <td>-0.380949</td>\n",
       "      <td>-0.527185</td>\n",
       "      <td>-0.301082</td>\n",
       "      <td>-0.415012</td>\n",
       "      <td>-0.566674</td>\n",
       "      <td>-0.361288</td>\n",
       "      <td>-0.477020</td>\n",
       "      <td>0.943210</td>\n",
       "    </tr>\n",
       "    <tr>\n",
       "      <th>4</th>\n",
       "      <td>-0.133942</td>\n",
       "      <td>-0.179743</td>\n",
       "      <td>0.044122</td>\n",
       "      <td>0.094308</td>\n",
       "      <td>0.501593</td>\n",
       "      <td>0.577091</td>\n",
       "      <td>-0.235369</td>\n",
       "      <td>-0.370679</td>\n",
       "      <td>-0.642769</td>\n",
       "      <td>-0.110766</td>\n",
       "      <td>...</td>\n",
       "      <td>-0.409861</td>\n",
       "      <td>-0.451601</td>\n",
       "      <td>-0.380949</td>\n",
       "      <td>1.666488</td>\n",
       "      <td>-0.301082</td>\n",
       "      <td>2.382303</td>\n",
       "      <td>-0.566674</td>\n",
       "      <td>-0.361288</td>\n",
       "      <td>2.178192</td>\n",
       "      <td>0.909044</td>\n",
       "    </tr>\n",
       "  </tbody>\n",
       "</table>\n",
       "<p>5 rows × 4563 columns</p>\n",
       "</div>"
      ],
      "text/plain": [
       "   C10H10O5  C10H10O6  C10H10O7  C10H10O8  C10H11O5N  C10H11O6N  C10H12O5  \\\n",
       "0  0.461775  0.456889  0.667817  0.705142   1.000721   1.080024  0.378268   \n",
       "1  0.175323  0.150762  0.367911  0.411420   0.760714   0.838187  0.083199   \n",
       "2 -0.054888 -0.095260  0.126888  0.175368   0.567829   0.643832 -0.153937   \n",
       "3 -0.092843 -0.135821  0.087152  0.136450   0.536028   0.611789 -0.193033   \n",
       "4 -0.133942 -0.179743  0.044122  0.094308   0.501593   0.577091 -0.235369   \n",
       "\n",
       "   C10H12O5N2  C10H12O5S  C10H12O6  ...  C9H14O5S  C9H14O6S  C9H16O5S  \\\n",
       "0    0.190074  -0.642769  0.505935  ... -0.409861 -0.451601 -0.380949   \n",
       "1   -0.079566  -0.642769  0.209392  ... -0.409861 -0.451601 -0.380949   \n",
       "2   -0.296266  -0.642769 -0.028928  ... -0.409861 -0.451601 -0.380949   \n",
       "3   -0.331992  -0.642769 -0.068219  ... -0.409861 -0.451601 -0.380949   \n",
       "4   -0.370679  -0.642769 -0.110766  ... -0.409861 -0.451601 -0.380949   \n",
       "\n",
       "   C9H16O9N4S  C9H20O5NS2P   C9H7O5N   C9H7O6N   C9H8O6S    C9H8O8   C9H9O6N  \n",
       "0   -0.527185    -0.301082 -0.415012 -0.566674 -0.361288  2.900496  1.404275  \n",
       "1    1.976289    -0.301082 -0.415012 -0.566674 -0.361288 -0.477020  1.166141  \n",
       "2   -0.527185    -0.301082 -0.415012 -0.566674 -0.361288 -0.477020  0.974762  \n",
       "3   -0.527185    -0.301082 -0.415012 -0.566674 -0.361288 -0.477020  0.943210  \n",
       "4    1.666488    -0.301082  2.382303 -0.566674 -0.361288  2.178192  0.909044  \n",
       "\n",
       "[5 rows x 4563 columns]"
      ]
     },
     "execution_count": 11,
     "metadata": {},
     "output_type": "execute_result"
    }
   ],
   "source": [
    "from sklearn.preprocessing import StandardScaler\n",
    "#define scaler\n",
    "scaler = StandardScaler()\n",
    "#create copy of DataFrame\n",
    "scaled_df=nsw.copy()\n",
    "\n",
    "#created scaled version of DataFrame\n",
    "scaled_df=pd.DataFrame(scaler.fit_transform(scaled_df), columns=scaled_df.columns)\n",
    "scaled_df.head()"
   ]
  },
  {
   "cell_type": "code",
   "execution_count": 12,
   "metadata": {},
   "outputs": [
    {
     "data": {
      "image/png": "[encoded data removed]",
      "text/plain": [
       "<Figure size 432x288 with 1 Axes>"
      ]
     },
     "metadata": {
      "needs_background": "light"
     },
     "output_type": "display_data"
    }
   ],
   "source": [
    "# Dimensionality reduction\n",
    "from sklearn.decomposition import PCA\n",
    "\n",
    "n = 100\n",
    "\n",
    "#define PCA model to use\n",
    "pca = PCA(n_components=n)\n",
    "\n",
    "#fit PCA model to data\n",
    "pca_fit = pca.fit(scaled_df)\n",
    "\n",
    "PC_values = np.arange(pca.n_components_) + 1\n",
    "plt.plot(PC_values, pca.explained_variance_ratio_, 'o-', linewidth=2, color='blue')\n",
    "plt.title('Scree Plot')\n",
    "plt.xlabel('Principal Component')\n",
    "plt.ylabel('Variance Explained')\n",
    "plt.show()"
   ]
  },
  {
   "cell_type": "code",
   "execution_count": 13,
   "metadata": {},
   "outputs": [
    {
     "name": "stdout",
     "output_type": "stream",
     "text": [
      "[0.11709752 0.08371734 0.04500474 0.03646724 0.02520591 0.02246231\n",
      " 0.02120184 0.01811923 0.01493857 0.01318117 0.01209308 0.01146136\n",
      " 0.01119338 0.01050448 0.00947591 0.0091291  0.00856452 0.00810782\n",
      " 0.00740179 0.00713058 0.00646768 0.00610787 0.00604074 0.00575165\n",
      " 0.00566209 0.00539307 0.0052031  0.00500461 0.00486679 0.00482699\n",
      " 0.00468005 0.00441124 0.00425342 0.0041403  0.00409349 0.00404394\n",
      " 0.00395623 0.00390057 0.00389715 0.00383097 0.00376266 0.00370193\n",
      " 0.00363642 0.00357889 0.00348912 0.00343912 0.00340118 0.00332813\n",
      " 0.00330633 0.00326842 0.00319141 0.00318078 0.00313729 0.00311114\n",
      " 0.00302403 0.00300831 0.00298782 0.00296341 0.00292975 0.00292253\n",
      " 0.00286273 0.0028586  0.00284067 0.00279677 0.00278778 0.00276224\n",
      " 0.00274087 0.00269554 0.0026671  0.00266538 0.0026298  0.00259509\n",
      " 0.00257593 0.0025561  0.00252965 0.00250828 0.00247337 0.00245693\n",
      " 0.00244951 0.00242678 0.00241576 0.002396   0.0023809  0.00237768\n",
      " 0.00236201 0.00232487 0.00230776 0.00228737 0.00227943 0.00225155\n",
      " 0.0022397  0.00223154 0.00219995 0.00216604 0.00215046 0.00214476\n",
      " 0.00210701 0.00209685 0.00206145 0.0020484 ]\n"
     ]
    }
   ],
   "source": [
    "print(pca.explained_variance_ratio_)"
   ]
  },
  {
   "cell_type": "code",
   "execution_count": 14,
   "metadata": {},
   "outputs": [
    {
     "data": {
      "text/plain": [
       "Text(0, 0.5, 'Cumulative explained variance')"
      ]
     },
     "execution_count": 14,
     "metadata": {},
     "output_type": "execute_result"
    },
    {
     "data": {
      "image/png": "[encoded data removed]",
      "text/plain": [
       "<Figure size 720x720 with 1 Axes>"
      ]
     },
     "metadata": {
      "needs_background": "light"
     },
     "output_type": "display_data"
    }
   ],
   "source": [
    "plt.figure(figsize = (10,10))\n",
    "plt.plot(range(1,n+1), pca.explained_variance_ratio_.cumsum(), marker = 'o', linestyle = '--')\n",
    "plt.title('Explained variance by components')\n",
    "plt.xlabel('Number of components')\n",
    "plt.ylabel('Cumulative explained variance')"
   ]
  },
  {
   "cell_type": "code",
   "execution_count": null,
   "metadata": {},
   "outputs": [],
   "source": []
  },
  {
   "cell_type": "markdown",
   "metadata": {},
   "source": [
    "#### Clustering"
   ]
  },
  {
   "cell_type": "code",
   "execution_count": 15,
   "metadata": {},
   "outputs": [],
   "source": [
    "# Based on scree plot, 7PCs for ?% variance explained\n",
    "#define PCA model to use\n",
    "pca = PCA(n_components=7)\n",
    "\n",
    "#fit PCA model to data\n",
    "pca_fit = pca.fit(scaled_df)\n",
    "X = pca.transform(scaled_df)"
   ]
  },
  {
   "cell_type": "code",
   "execution_count": 16,
   "metadata": {},
   "outputs": [],
   "source": [
    "# Keep only CF\n",
    "from sklearn import cluster\n",
    "from sklearn import metrics\n",
    "from sklearn.cluster import KMeans\n",
    "from scipy.spatial.distance import cdist"
   ]
  },
  {
   "cell_type": "code",
   "execution_count": 17,
   "metadata": {},
   "outputs": [],
   "source": [
    "distortions = []\n",
    "inertias = []\n",
    "mapping1 = {}\n",
    "mapping2 = {}\n",
    "K = range(4,20)\n",
    "\n",
    "for k in K:\n",
    "    # Building and fitting the model\n",
    "    kmeanModel = KMeans(n_clusters=k, random_state=0).fit(X)\n",
    "    kmeanModel.fit(X)\n",
    "    distortions.append(sum(np.min(cdist(X, kmeanModel.cluster_centers_,'euclidean'), axis=1)) / X.shape[0])\n",
    "    inertias.append(kmeanModel.inertia_)\n",
    "    mapping1[k] = sum(np.min(cdist(X, kmeanModel.cluster_centers_,'euclidean'), axis=1)) / X.shape[0]\n",
    "    mapping2[k] = kmeanModel.inertia_"
   ]
  },
  {
   "cell_type": "code",
   "execution_count": 18,
   "metadata": {},
   "outputs": [
    {
     "data": {
      "image/png": "[encoded data removed]",
      "text/plain": [
       "<Figure size 432x288 with 1 Axes>"
      ]
     },
     "metadata": {
      "needs_background": "light"
     },
     "output_type": "display_data"
    }
   ],
   "source": [
    "plt.plot(K, distortions, 'bx-')\n",
    "plt.xlabel('Values of K')\n",
    "plt.ylabel('Distortion')\n",
    "plt.title('The Elbow Method using Distortion')\n",
    "plt.show()"
   ]
  },
  {
   "cell_type": "code",
   "execution_count": 19,
   "metadata": {},
   "outputs": [
    {
     "data": {
      "image/png": "[encoded data removed]",
      "text/plain": [
       "<Figure size 432x288 with 1 Axes>"
      ]
     },
     "metadata": {
      "needs_background": "light"
     },
     "output_type": "display_data"
    }
   ],
   "source": [
    "plt.plot(K, inertias, 'bx-')\n",
    "plt.xlabel('Values of K')\n",
    "plt.ylabel('Inertia')\n",
    "plt.title('The Elbow Method using Inertia')\n",
    "plt.show()"
   ]
  },
  {
   "cell_type": "code",
   "execution_count": 20,
   "metadata": {},
   "outputs": [],
   "source": [
    "k = 5\n",
    "kmeanModel = KMeans(n_clusters=k, random_state=0).fit(X)\n",
    "kmeanModel.fit(X)\n",
    "distortions.append(sum(np.min(cdist(X, kmeanModel.cluster_centers_,'euclidean'), axis=1)) / X.shape[0])\n",
    "inertias.append(kmeanModel.inertia_)\n",
    "mapping1[k] = sum(np.min(cdist(X, kmeanModel.cluster_centers_,'euclidean'), axis=1)) / X.shape[0]\n",
    "mapping2[k] = kmeanModel.inertia_"
   ]
  },
  {
   "cell_type": "code",
   "execution_count": 21,
   "metadata": {},
   "outputs": [
    {
     "data": {
      "text/plain": [
       "0.27194217004340576"
      ]
     },
     "execution_count": 21,
     "metadata": {},
     "output_type": "execute_result"
    }
   ],
   "source": [
    "from sklearn import metrics\n",
    "metrics.silhouette_score(X, kmeanModel.labels_, metric='euclidean')"
   ]
  },
  {
   "cell_type": "code",
   "execution_count": 22,
   "metadata": {},
   "outputs": [
    {
     "name": "stderr",
     "output_type": "stream",
     "text": [
      "C:\\Users\\mchang\\Anaconda3\\lib\\site-packages\\seaborn\\_decorators.py:36: FutureWarning: Pass the following variables as keyword args: x, y. From version 0.12, the only valid positional argument will be `data`, and passing other arguments without an explicit keyword will result in an error or misinterpretation.\n",
      "  warnings.warn(\n"
     ]
    },
    {
     "data": {
      "image/png": "[encoded data removed]",
      "text/plain": [
       "<Figure size 720x576 with 1 Axes>"
      ]
     },
     "metadata": {
      "needs_background": "light"
     },
     "output_type": "display_data"
    }
   ],
   "source": [
    "# Visualise\n",
    "sw_pca_kmeans = pd.concat([sw.reset_index(), pd.DataFrame(X)], axis=1)\n",
    "sw_pca_kmeans.columns.values[-7:] = ['pc1','pc2','pc3','pc4','pc5','pc6','pc7'] \n",
    "sw_pca_kmeans['label'] = kmeanModel.labels_\n",
    "\n",
    "x_axis = sw_pca_kmeans['pc1']\n",
    "y_axis = sw_pca_kmeans['pc2']\n",
    "plt.figure(figsize = (10, 8))\n",
    "sns.scatterplot(x_axis, y_axis, hue = sw_pca_kmeans['label'])\n",
    "plt.title('Clusters by PC 1 and 2')\n",
    "plt.show()"
   ]
  },
  {
   "cell_type": "code",
   "execution_count": 23,
   "metadata": {},
   "outputs": [
    {
     "data": {
      "text/plain": [
       "cluster\n",
       "0    4215\n",
       "1    4503\n",
       "2    1335\n",
       "3    4558\n",
       "4    3280\n",
       "dtype: int64"
      ]
     },
     "execution_count": 23,
     "metadata": {},
     "output_type": "execute_result"
    }
   ],
   "source": [
    "results = sw.copy()\n",
    "results[\"cluster\"] = kmeanModel.labels_\n",
    "temp = results.groupby(\"cluster\").any()\n",
    "temp.sum(axis=1)"
   ]
  },
  {
   "cell_type": "code",
   "execution_count": 24,
   "metadata": {},
   "outputs": [],
   "source": [
    "# label cluster\n",
    "results[\"KNN_label\"] = np.nan\n",
    "results.loc[results[\"cluster\"] == 2, \"KNN_label\"] = \"Least\"\n",
    "results.loc[results[\"cluster\"] == 4, \"KNN_label\"] = \"Less\"\n",
    "results.loc[results[\"cluster\"] == 0, \"KNN_label\"] = \"Average\"\n",
    "results.loc[results[\"cluster\"] == 1, \"KNN_label\"] = \"More\"\n",
    "results.loc[results[\"cluster\"] == 3, \"KNN_label\"] = \"Most\""
   ]
  },
  {
   "cell_type": "code",
   "execution_count": 25,
   "metadata": {},
   "outputs": [],
   "source": [
    "results.to_csv('knn.csv')"
   ]
  },
  {
   "cell_type": "code",
   "execution_count": null,
   "metadata": {},
   "outputs": [],
   "source": []
  }
 ],
 "metadata": {
  "kernelspec": {
   "display_name": "Python 3 (ipykernel)",
   "language": "python",
   "name": "python3"
  },
  "language_info": {
   "codemirror_mode": {
    "name": "ipython",
    "version": 3
   },
   "file_extension": ".py",
   "mimetype": "text/x-python",
   "name": "python",
   "nbconvert_exporter": "python",
   "pygments_lexer": "ipython3",
   "version": "3.9.7"
  }
 },
 "nbformat": 4,
 "nbformat_minor": 4
}
