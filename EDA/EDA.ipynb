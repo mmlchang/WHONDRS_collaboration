{
 "cells": [
  {
   "cell_type": "markdown",
   "metadata": {
    "tags": []
   },
   "source": [
    "# Data understanding and Exploratory analysis (EDA)\n",
    "## Topic: Examining the ecological processes influencing the assembly of molecules into OM assemblages\n",
    "\n",
    "\n",
    "Dataset: 2 March 2022 from GDrive\n",
    "(1) CF for SED and Water: https://drive.google.com/drive/folders/1hm4YNib_kI5Y4k7xp4E47w8qDjUIsagA?usp=sharing\n",
    "(2) Metadata:"
   ]
  },
  {
   "cell_type": "markdown",
   "metadata": {},
   "source": [
    "## Data Processing"
   ]
  },
  {
   "cell_type": "code",
   "execution_count": 2,
   "metadata": {},
   "outputs": [],
   "source": [
    "import numpy as np\n",
    "import pandas as pd\n",
    "import matplotlib.pyplot as plt\n",
    "import seaborn as sns"
   ]
  },
  {
   "cell_type": "code",
   "execution_count": 3,
   "metadata": {},
   "outputs": [
    {
     "name": "stdout",
     "output_type": "stream",
     "text": [
      "Sediment: (239, 4053)\n",
      "Water: (265, 4936)\n",
      "4053\n",
      "4936\n",
      "2109\n",
      "(504, 6880)\n",
      "Duplicated column: False\n",
      "(504, 6882)\n"
     ]
    },
    {
     "data": {
      "text/html": [
       "<div>\n",
       "<style scoped>\n",
       "    .dataframe tbody tr th:only-of-type {\n",
       "        vertical-align: middle;\n",
       "    }\n",
       "\n",
       "    .dataframe tbody tr th {\n",
       "        vertical-align: top;\n",
       "    }\n",
       "\n",
       "    .dataframe thead th {\n",
       "        text-align: right;\n",
       "    }\n",
       "</style>\n",
       "<table border=\"1\" class=\"dataframe\">\n",
       "  <thead>\n",
       "    <tr style=\"text-align: right;\">\n",
       "      <th></th>\n",
       "      <th>sample_id</th>\n",
       "      <th>C10H10O5</th>\n",
       "      <th>C10H10O5N4</th>\n",
       "      <th>C10H10O6</th>\n",
       "      <th>C10H10O6N4</th>\n",
       "      <th>C10H10O7</th>\n",
       "      <th>C10H10O8</th>\n",
       "      <th>C10H11O4N5</th>\n",
       "      <th>C10H11O5N</th>\n",
       "      <th>C10H11O5N5</th>\n",
       "      <th>...</th>\n",
       "      <th>C9H16O5S</th>\n",
       "      <th>C9H16O9N4S</th>\n",
       "      <th>C9H20O5NS2P</th>\n",
       "      <th>C9H7O5N</th>\n",
       "      <th>C9H7O6N</th>\n",
       "      <th>C9H8O6S</th>\n",
       "      <th>C9H8O8</th>\n",
       "      <th>C9H9O6N</th>\n",
       "      <th>type</th>\n",
       "      <th>location</th>\n",
       "    </tr>\n",
       "  </thead>\n",
       "  <tbody>\n",
       "    <tr>\n",
       "      <th>0</th>\n",
       "      <td>SED_S19S.0001_D_Field</td>\n",
       "      <td>1</td>\n",
       "      <td>1.0</td>\n",
       "      <td>1</td>\n",
       "      <td>1.0</td>\n",
       "      <td>1</td>\n",
       "      <td>1</td>\n",
       "      <td>0.0</td>\n",
       "      <td>0</td>\n",
       "      <td>1.0</td>\n",
       "      <td>...</td>\n",
       "      <td>0.0</td>\n",
       "      <td>0.0</td>\n",
       "      <td>0.0</td>\n",
       "      <td>0.0</td>\n",
       "      <td>0.0</td>\n",
       "      <td>0.0</td>\n",
       "      <td>0.0</td>\n",
       "      <td>0.0</td>\n",
       "      <td>SED</td>\n",
       "      <td>D</td>\n",
       "    </tr>\n",
       "    <tr>\n",
       "      <th>1</th>\n",
       "      <td>SED_S19S.0001_M_Field</td>\n",
       "      <td>1</td>\n",
       "      <td>1.0</td>\n",
       "      <td>1</td>\n",
       "      <td>1.0</td>\n",
       "      <td>1</td>\n",
       "      <td>1</td>\n",
       "      <td>0.0</td>\n",
       "      <td>0</td>\n",
       "      <td>1.0</td>\n",
       "      <td>...</td>\n",
       "      <td>0.0</td>\n",
       "      <td>0.0</td>\n",
       "      <td>0.0</td>\n",
       "      <td>0.0</td>\n",
       "      <td>0.0</td>\n",
       "      <td>0.0</td>\n",
       "      <td>0.0</td>\n",
       "      <td>0.0</td>\n",
       "      <td>SED</td>\n",
       "      <td>M</td>\n",
       "    </tr>\n",
       "    <tr>\n",
       "      <th>2</th>\n",
       "      <td>SED_S19S.0001_U_Field</td>\n",
       "      <td>1</td>\n",
       "      <td>1.0</td>\n",
       "      <td>1</td>\n",
       "      <td>1.0</td>\n",
       "      <td>1</td>\n",
       "      <td>0</td>\n",
       "      <td>0.0</td>\n",
       "      <td>1</td>\n",
       "      <td>1.0</td>\n",
       "      <td>...</td>\n",
       "      <td>0.0</td>\n",
       "      <td>0.0</td>\n",
       "      <td>0.0</td>\n",
       "      <td>0.0</td>\n",
       "      <td>0.0</td>\n",
       "      <td>0.0</td>\n",
       "      <td>0.0</td>\n",
       "      <td>0.0</td>\n",
       "      <td>SED</td>\n",
       "      <td>U</td>\n",
       "    </tr>\n",
       "    <tr>\n",
       "      <th>3</th>\n",
       "      <td>SED_S19S.0003_D_Field</td>\n",
       "      <td>1</td>\n",
       "      <td>0.0</td>\n",
       "      <td>1</td>\n",
       "      <td>0.0</td>\n",
       "      <td>1</td>\n",
       "      <td>1</td>\n",
       "      <td>0.0</td>\n",
       "      <td>0</td>\n",
       "      <td>0.0</td>\n",
       "      <td>...</td>\n",
       "      <td>0.0</td>\n",
       "      <td>0.0</td>\n",
       "      <td>0.0</td>\n",
       "      <td>0.0</td>\n",
       "      <td>0.0</td>\n",
       "      <td>0.0</td>\n",
       "      <td>0.0</td>\n",
       "      <td>0.0</td>\n",
       "      <td>SED</td>\n",
       "      <td>D</td>\n",
       "    </tr>\n",
       "    <tr>\n",
       "      <th>4</th>\n",
       "      <td>SED_S19S.0003_M_Field</td>\n",
       "      <td>1</td>\n",
       "      <td>0.0</td>\n",
       "      <td>0</td>\n",
       "      <td>0.0</td>\n",
       "      <td>0</td>\n",
       "      <td>0</td>\n",
       "      <td>0.0</td>\n",
       "      <td>0</td>\n",
       "      <td>0.0</td>\n",
       "      <td>...</td>\n",
       "      <td>0.0</td>\n",
       "      <td>0.0</td>\n",
       "      <td>0.0</td>\n",
       "      <td>0.0</td>\n",
       "      <td>0.0</td>\n",
       "      <td>0.0</td>\n",
       "      <td>0.0</td>\n",
       "      <td>0.0</td>\n",
       "      <td>SED</td>\n",
       "      <td>M</td>\n",
       "    </tr>\n",
       "  </tbody>\n",
       "</table>\n",
       "<p>5 rows × 6882 columns</p>\n",
       "</div>"
      ],
      "text/plain": [
       "               sample_id  C10H10O5  C10H10O5N4  C10H10O6  C10H10O6N4  \\\n",
       "0  SED_S19S.0001_D_Field         1         1.0         1         1.0   \n",
       "1  SED_S19S.0001_M_Field         1         1.0         1         1.0   \n",
       "2  SED_S19S.0001_U_Field         1         1.0         1         1.0   \n",
       "3  SED_S19S.0003_D_Field         1         0.0         1         0.0   \n",
       "4  SED_S19S.0003_M_Field         1         0.0         0         0.0   \n",
       "\n",
       "   C10H10O7  C10H10O8  C10H11O4N5  C10H11O5N  C10H11O5N5  ...  C9H16O5S  \\\n",
       "0         1         1         0.0          0         1.0  ...       0.0   \n",
       "1         1         1         0.0          0         1.0  ...       0.0   \n",
       "2         1         0         0.0          1         1.0  ...       0.0   \n",
       "3         1         1         0.0          0         0.0  ...       0.0   \n",
       "4         0         0         0.0          0         0.0  ...       0.0   \n",
       "\n",
       "   C9H16O9N4S  C9H20O5NS2P  C9H7O5N  C9H7O6N  C9H8O6S  C9H8O8  C9H9O6N  type  \\\n",
       "0         0.0          0.0      0.0      0.0      0.0     0.0      0.0   SED   \n",
       "1         0.0          0.0      0.0      0.0      0.0     0.0      0.0   SED   \n",
       "2         0.0          0.0      0.0      0.0      0.0     0.0      0.0   SED   \n",
       "3         0.0          0.0      0.0      0.0      0.0     0.0      0.0   SED   \n",
       "4         0.0          0.0      0.0      0.0      0.0     0.0      0.0   SED   \n",
       "\n",
       "   location  \n",
       "0         D  \n",
       "1         M  \n",
       "2         U  \n",
       "3         D  \n",
       "4         M  \n",
       "\n",
       "[5 rows x 6882 columns]"
      ]
     },
     "execution_count": 3,
     "metadata": {},
     "output_type": "execute_result"
    }
   ],
   "source": [
    "# Load dataset\n",
    "fn_sed = \"../Dataset/Sediment_Prevalence_10__commat_2021-09-29.csv\"\n",
    "fn_water = \"../Dataset/Water_Prevalence_10__commat_2021-09-29.csv\"\n",
    "df_sed = pd.read_csv(fn_sed)\n",
    "print('Sediment: ' + str(df_sed.shape))\n",
    "\n",
    "df_water = pd.read_csv(fn_water)\n",
    "print('Water: ' + str(df_water.shape))\n",
    "\n",
    "# Data quality check\n",
    "print(df_sed.columns.nunique())\n",
    "print(df_water.columns.nunique())\n",
    "\n",
    "# Check how many overlapping CF\n",
    "print(len(set(df_sed.columns).intersection(set(df_water.columns))))\n",
    "\n",
    "# Join datasets\n",
    "df = pd.concat([df_sed, df_water], join=\"outer\")\n",
    "print(df.shape)\n",
    "\n",
    "# Check if there is any identical columns / CF across all samples\n",
    "print(\"Duplicated column: \" + str(df.columns.duplicated().any()))\n",
    "\n",
    "# Pre-processing\n",
    "df = df.rename(columns={\"Unnamed: 0\": \"sample_id\"})\n",
    "df = df.set_index(\"sample_id\").fillna(0).reset_index()\n",
    "df['type'] = df['sample_id'].str.split('_').str[0]\n",
    "df['location'] = df['sample_id'].str.split('_').str[-2]\n",
    "print(df.shape)\n",
    "df.head()"
   ]
  },
  {
   "cell_type": "code",
   "execution_count": 4,
   "metadata": {},
   "outputs": [
    {
     "data": {
      "text/html": [
       "<div>\n",
       "<style scoped>\n",
       "    .dataframe tbody tr th:only-of-type {\n",
       "        vertical-align: middle;\n",
       "    }\n",
       "\n",
       "    .dataframe tbody tr th {\n",
       "        vertical-align: top;\n",
       "    }\n",
       "\n",
       "    .dataframe thead th {\n",
       "        text-align: right;\n",
       "    }\n",
       "</style>\n",
       "<table border=\"1\" class=\"dataframe\">\n",
       "  <thead>\n",
       "    <tr style=\"text-align: right;\">\n",
       "      <th></th>\n",
       "      <th>C10H10O5</th>\n",
       "      <th>C10H10O5N4</th>\n",
       "      <th>C10H10O6</th>\n",
       "      <th>C10H10O6N4</th>\n",
       "      <th>C10H10O7</th>\n",
       "      <th>C10H10O8</th>\n",
       "      <th>C10H11O4N5</th>\n",
       "      <th>C10H11O5N</th>\n",
       "      <th>C10H11O5N5</th>\n",
       "      <th>C10H11O6N</th>\n",
       "      <th>...</th>\n",
       "      <th>C9H7O5N</th>\n",
       "      <th>C9H7O6N</th>\n",
       "      <th>C9H8O6S</th>\n",
       "      <th>C9H8O8</th>\n",
       "      <th>C9H9O6N</th>\n",
       "      <th>SED</th>\n",
       "      <th>SW</th>\n",
       "      <th>D</th>\n",
       "      <th>M</th>\n",
       "      <th>U</th>\n",
       "    </tr>\n",
       "    <tr>\n",
       "      <th>sample_id</th>\n",
       "      <th></th>\n",
       "      <th></th>\n",
       "      <th></th>\n",
       "      <th></th>\n",
       "      <th></th>\n",
       "      <th></th>\n",
       "      <th></th>\n",
       "      <th></th>\n",
       "      <th></th>\n",
       "      <th></th>\n",
       "      <th></th>\n",
       "      <th></th>\n",
       "      <th></th>\n",
       "      <th></th>\n",
       "      <th></th>\n",
       "      <th></th>\n",
       "      <th></th>\n",
       "      <th></th>\n",
       "      <th></th>\n",
       "      <th></th>\n",
       "      <th></th>\n",
       "    </tr>\n",
       "  </thead>\n",
       "  <tbody>\n",
       "    <tr>\n",
       "      <th>SED_S19S.0001_D_Field</th>\n",
       "      <td>1</td>\n",
       "      <td>1</td>\n",
       "      <td>1</td>\n",
       "      <td>1</td>\n",
       "      <td>1</td>\n",
       "      <td>1</td>\n",
       "      <td>0</td>\n",
       "      <td>0</td>\n",
       "      <td>1</td>\n",
       "      <td>0</td>\n",
       "      <td>...</td>\n",
       "      <td>0</td>\n",
       "      <td>0</td>\n",
       "      <td>0</td>\n",
       "      <td>0</td>\n",
       "      <td>0</td>\n",
       "      <td>1</td>\n",
       "      <td>0</td>\n",
       "      <td>1</td>\n",
       "      <td>0</td>\n",
       "      <td>0</td>\n",
       "    </tr>\n",
       "    <tr>\n",
       "      <th>SED_S19S.0001_M_Field</th>\n",
       "      <td>1</td>\n",
       "      <td>1</td>\n",
       "      <td>1</td>\n",
       "      <td>1</td>\n",
       "      <td>1</td>\n",
       "      <td>1</td>\n",
       "      <td>0</td>\n",
       "      <td>0</td>\n",
       "      <td>1</td>\n",
       "      <td>0</td>\n",
       "      <td>...</td>\n",
       "      <td>0</td>\n",
       "      <td>0</td>\n",
       "      <td>0</td>\n",
       "      <td>0</td>\n",
       "      <td>0</td>\n",
       "      <td>1</td>\n",
       "      <td>0</td>\n",
       "      <td>0</td>\n",
       "      <td>1</td>\n",
       "      <td>0</td>\n",
       "    </tr>\n",
       "    <tr>\n",
       "      <th>SED_S19S.0001_U_Field</th>\n",
       "      <td>1</td>\n",
       "      <td>1</td>\n",
       "      <td>1</td>\n",
       "      <td>1</td>\n",
       "      <td>1</td>\n",
       "      <td>0</td>\n",
       "      <td>0</td>\n",
       "      <td>1</td>\n",
       "      <td>1</td>\n",
       "      <td>0</td>\n",
       "      <td>...</td>\n",
       "      <td>0</td>\n",
       "      <td>0</td>\n",
       "      <td>0</td>\n",
       "      <td>0</td>\n",
       "      <td>0</td>\n",
       "      <td>1</td>\n",
       "      <td>0</td>\n",
       "      <td>0</td>\n",
       "      <td>0</td>\n",
       "      <td>1</td>\n",
       "    </tr>\n",
       "    <tr>\n",
       "      <th>SED_S19S.0003_D_Field</th>\n",
       "      <td>1</td>\n",
       "      <td>0</td>\n",
       "      <td>1</td>\n",
       "      <td>0</td>\n",
       "      <td>1</td>\n",
       "      <td>1</td>\n",
       "      <td>0</td>\n",
       "      <td>0</td>\n",
       "      <td>0</td>\n",
       "      <td>0</td>\n",
       "      <td>...</td>\n",
       "      <td>0</td>\n",
       "      <td>0</td>\n",
       "      <td>0</td>\n",
       "      <td>0</td>\n",
       "      <td>0</td>\n",
       "      <td>1</td>\n",
       "      <td>0</td>\n",
       "      <td>1</td>\n",
       "      <td>0</td>\n",
       "      <td>0</td>\n",
       "    </tr>\n",
       "    <tr>\n",
       "      <th>SED_S19S.0003_M_Field</th>\n",
       "      <td>1</td>\n",
       "      <td>0</td>\n",
       "      <td>0</td>\n",
       "      <td>0</td>\n",
       "      <td>0</td>\n",
       "      <td>0</td>\n",
       "      <td>0</td>\n",
       "      <td>0</td>\n",
       "      <td>0</td>\n",
       "      <td>0</td>\n",
       "      <td>...</td>\n",
       "      <td>0</td>\n",
       "      <td>0</td>\n",
       "      <td>0</td>\n",
       "      <td>0</td>\n",
       "      <td>0</td>\n",
       "      <td>1</td>\n",
       "      <td>0</td>\n",
       "      <td>0</td>\n",
       "      <td>1</td>\n",
       "      <td>0</td>\n",
       "    </tr>\n",
       "  </tbody>\n",
       "</table>\n",
       "<p>5 rows × 6884 columns</p>\n",
       "</div>"
      ],
      "text/plain": [
       "                       C10H10O5  C10H10O5N4  C10H10O6  C10H10O6N4  C10H10O7  \\\n",
       "sample_id                                                                     \n",
       "SED_S19S.0001_D_Field         1           1         1           1         1   \n",
       "SED_S19S.0001_M_Field         1           1         1           1         1   \n",
       "SED_S19S.0001_U_Field         1           1         1           1         1   \n",
       "SED_S19S.0003_D_Field         1           0         1           0         1   \n",
       "SED_S19S.0003_M_Field         1           0         0           0         0   \n",
       "\n",
       "                       C10H10O8  C10H11O4N5  C10H11O5N  C10H11O5N5  C10H11O6N  \\\n",
       "sample_id                                                                       \n",
       "SED_S19S.0001_D_Field         1           0          0           1          0   \n",
       "SED_S19S.0001_M_Field         1           0          0           1          0   \n",
       "SED_S19S.0001_U_Field         0           0          1           1          0   \n",
       "SED_S19S.0003_D_Field         1           0          0           0          0   \n",
       "SED_S19S.0003_M_Field         0           0          0           0          0   \n",
       "\n",
       "                       ...  C9H7O5N  C9H7O6N  C9H8O6S  C9H8O8  C9H9O6N  SED  \\\n",
       "sample_id              ...                                                    \n",
       "SED_S19S.0001_D_Field  ...        0        0        0       0        0    1   \n",
       "SED_S19S.0001_M_Field  ...        0        0        0       0        0    1   \n",
       "SED_S19S.0001_U_Field  ...        0        0        0       0        0    1   \n",
       "SED_S19S.0003_D_Field  ...        0        0        0       0        0    1   \n",
       "SED_S19S.0003_M_Field  ...        0        0        0       0        0    1   \n",
       "\n",
       "                       SW  D  M  U  \n",
       "sample_id                           \n",
       "SED_S19S.0001_D_Field   0  1  0  0  \n",
       "SED_S19S.0001_M_Field   0  0  1  0  \n",
       "SED_S19S.0001_U_Field   0  0  0  1  \n",
       "SED_S19S.0003_D_Field   0  1  0  0  \n",
       "SED_S19S.0003_M_Field   0  0  1  0  \n",
       "\n",
       "[5 rows x 6884 columns]"
      ]
     },
     "execution_count": 4,
     "metadata": {},
     "output_type": "execute_result"
    }
   ],
   "source": [
    "from sklearn.preprocessing import OneHotEncoder\n",
    "\n",
    "#creating instance of one-hot-encoder\n",
    "encoder = OneHotEncoder(handle_unknown='ignore')\n",
    "\n",
    "#perform one-hot encoding on 'team' column \n",
    "encoder_df = pd.DataFrame(encoder.fit_transform(df[['type','location']]).toarray())\n",
    "encoder_df.columns = ['SED','SW','D','M','U']\n",
    "#merge one-hot encoded columns back with original DataFrame\n",
    "final_df = df.join(encoder_df).set_index('sample_id')\n",
    "final_df.drop(['type', 'location'], axis='columns', inplace=True)\n",
    "final_df = final_df.apply(pd.to_numeric).astype(int)\n",
    "final_df.head()"
   ]
  },
  {
   "cell_type": "code",
   "execution_count": 5,
   "metadata": {},
   "outputs": [],
   "source": [
    "#final_df.to_csv('all.csv')"
   ]
  },
  {
   "cell_type": "code",
   "execution_count": 15,
   "metadata": {},
   "outputs": [
    {
     "data": {
      "text/plain": [
       "SED  SW  D  M  U\n",
       "0    1   0  0  1    265\n",
       "1    0   0  1  0     83\n",
       "            0  1     80\n",
       "         1  0  0     76\n",
       "dtype: int64"
      ]
     },
     "execution_count": 15,
     "metadata": {},
     "output_type": "execute_result"
    }
   ],
   "source": [
    "col = ['SED','SW','D','M','U']\n",
    "final_df[col].value_counts()"
   ]
  },
  {
   "cell_type": "code",
   "execution_count": 17,
   "metadata": {},
   "outputs": [
    {
     "data": {
      "text/html": [
       "<div>\n",
       "<style scoped>\n",
       "    .dataframe tbody tr th:only-of-type {\n",
       "        vertical-align: middle;\n",
       "    }\n",
       "\n",
       "    .dataframe tbody tr th {\n",
       "        vertical-align: top;\n",
       "    }\n",
       "\n",
       "    .dataframe thead th {\n",
       "        text-align: right;\n",
       "    }\n",
       "</style>\n",
       "<table border=\"1\" class=\"dataframe\">\n",
       "  <thead>\n",
       "    <tr style=\"text-align: right;\">\n",
       "      <th></th>\n",
       "      <th>0</th>\n",
       "      <th>1</th>\n",
       "      <th>2</th>\n",
       "      <th>3</th>\n",
       "    </tr>\n",
       "  </thead>\n",
       "  <tbody>\n",
       "    <tr>\n",
       "      <th>C10H10O5</th>\n",
       "      <td>245</td>\n",
       "      <td>74</td>\n",
       "      <td>75</td>\n",
       "      <td>71</td>\n",
       "    </tr>\n",
       "    <tr>\n",
       "      <th>C10H10O5N4</th>\n",
       "      <td>0</td>\n",
       "      <td>60</td>\n",
       "      <td>63</td>\n",
       "      <td>53</td>\n",
       "    </tr>\n",
       "    <tr>\n",
       "      <th>C10H10O6</th>\n",
       "      <td>250</td>\n",
       "      <td>69</td>\n",
       "      <td>66</td>\n",
       "      <td>63</td>\n",
       "    </tr>\n",
       "    <tr>\n",
       "      <th>C10H10O6N4</th>\n",
       "      <td>0</td>\n",
       "      <td>42</td>\n",
       "      <td>41</td>\n",
       "      <td>40</td>\n",
       "    </tr>\n",
       "    <tr>\n",
       "      <th>C10H10O7</th>\n",
       "      <td>234</td>\n",
       "      <td>60</td>\n",
       "      <td>53</td>\n",
       "      <td>54</td>\n",
       "    </tr>\n",
       "  </tbody>\n",
       "</table>\n",
       "</div>"
      ],
      "text/plain": [
       "              0   1   2   3\n",
       "C10H10O5    245  74  75  71\n",
       "C10H10O5N4    0  60  63  53\n",
       "C10H10O6    250  69  66  63\n",
       "C10H10O6N4    0  42  41  40\n",
       "C10H10O7    234  60  53  54"
      ]
     },
     "execution_count": 17,
     "metadata": {},
     "output_type": "execute_result"
    }
   ],
   "source": [
    "temp = final_df.groupby(col).sum().reset_index(drop=True).T\n",
    "temp.head(5)"
   ]
  },
  {
   "cell_type": "code",
   "execution_count": 19,
   "metadata": {},
   "outputs": [
    {
     "data": {
      "image/png": "[encoded data removed]",
      "text/plain": [
       "<Figure size 432x288 with 1 Axes>"
      ]
     },
     "metadata": {
      "needs_background": "light"
     },
     "output_type": "display_data"
    }
   ],
   "source": [
    "plt.hist(temp[0])\n",
    "plt.show()"
   ]
  },
  {
   "cell_type": "code",
   "execution_count": 20,
   "metadata": {},
   "outputs": [
    {
     "data": {
      "image/png": "[encoded data removed]",
      "text/plain": [
       "<Figure size 432x288 with 1 Axes>"
      ]
     },
     "metadata": {
      "needs_background": "light"
     },
     "output_type": "display_data"
    }
   ],
   "source": [
    "plt.hist(temp[1])\n",
    "plt.show()"
   ]
  },
  {
   "cell_type": "code",
   "execution_count": 21,
   "metadata": {},
   "outputs": [
    {
     "data": {
      "image/png": "[encoded data removed]",
      "text/plain": [
       "<Figure size 432x288 with 1 Axes>"
      ]
     },
     "metadata": {
      "needs_background": "light"
     },
     "output_type": "display_data"
    }
   ],
   "source": [
    "plt.hist(temp[2])\n",
    "plt.show()"
   ]
  },
  {
   "cell_type": "code",
   "execution_count": 22,
   "metadata": {},
   "outputs": [
    {
     "data": {
      "image/png": "[encoded data removed]",
      "text/plain": [
       "<Figure size 432x288 with 1 Axes>"
      ]
     },
     "metadata": {
      "needs_background": "light"
     },
     "output_type": "display_data"
    }
   ],
   "source": [
    "plt.hist(temp[3])\n",
    "plt.show()"
   ]
  },
  {
   "cell_type": "code",
   "execution_count": null,
   "metadata": {},
   "outputs": [],
   "source": []
  },
  {
   "cell_type": "code",
   "execution_count": null,
   "metadata": {},
   "outputs": [],
   "source": []
  },
  {
   "cell_type": "code",
   "execution_count": null,
   "metadata": {},
   "outputs": [],
   "source": []
  },
  {
   "cell_type": "markdown",
   "metadata": {},
   "source": [
    "Questions to clarify before further analysis:\n",
    "    \n",
    "    (1) SED, SW, D, M, U (2 types, 3 locations = 6 categories) with CF? >> There are only four categories: SED_D, SED_M, SED_U and SW_U\n",
    "    (2) Prior knowledge on CF for feature engineering e.g. common CF, rare CF etc. >> we do know the unique CF only in SED or SW only, we are interested in the overlap?\n",
    "    (3) Data understanding from topic 1 slide: Core and satellite? \n",
    "    (4) Clustering: on metadata? on CF? Does it make sense to reduce the dimensions of CF using PCA? or can we engineer feature based on the CF? Expecting to find plant-based, microbial-based >> what data tell you this\n",
    "    (5) Definition of clusters >> Unsupervised doesn't make sense if we already know the cluster is the categories\n",
    "    (6) Need to clarify the research question: keywords of ecological processes, assembly of molecules, OM"
   ]
  },
  {
   "cell_type": "code",
   "execution_count": null,
   "metadata": {},
   "outputs": [],
   "source": []
  },
  {
   "cell_type": "code",
   "execution_count": null,
   "metadata": {},
   "outputs": [],
   "source": []
  },
  {
   "cell_type": "code",
   "execution_count": null,
   "metadata": {},
   "outputs": [],
   "source": []
  },
  {
   "cell_type": "code",
   "execution_count": null,
   "metadata": {},
   "outputs": [],
   "source": []
  },
  {
   "cell_type": "code",
   "execution_count": null,
   "metadata": {},
   "outputs": [],
   "source": []
  },
  {
   "cell_type": "code",
   "execution_count": null,
   "metadata": {},
   "outputs": [],
   "source": []
  },
  {
   "cell_type": "markdown",
   "metadata": {
    "tags": []
   },
   "source": [
    "## Clustering the samples based on reduced CF using Feature Agglomeration and k-means"
   ]
  },
  {
   "cell_type": "raw",
   "metadata": {},
   "source": [
    "# Keep only CF\n",
    "from sklearn import cluster\n",
    "from sklearn import metrics\n",
    "from sklearn.cluster import KMeans\n",
    "from scipy.spatial.distance import cdist\n",
    "\n",
    "sed_d = final_df[(final_df['SED']==1) & (final_df['D']==1)]\n",
    "print(sed_d.shape)"
   ]
  },
  {
   "cell_type": "raw",
   "metadata": {},
   "source": [
    "cf_df = final_df.iloc[:,:-5]\n",
    "agglo = cluster.FeatureAgglomeration(n_clusters=100)\n",
    "agglo.fit(cf_df)\n",
    "reduced_cf = agglo.transform(cf_df)"
   ]
  },
  {
   "cell_type": "raw",
   "metadata": {},
   "source": [
    "X = pd.DataFrame(cf_df)\n",
    "\n",
    "distortions = []\n",
    "inertias = []\n",
    "mapping1 = {}\n",
    "mapping2 = {}\n",
    "K = range(4,20)\n",
    "\n",
    "for k in K:\n",
    "    # Building and fitting the model\n",
    "    kmeanModel = KMeans(n_clusters=k, random_state=0).fit(X)\n",
    "    kmeanModel.fit(X)\n",
    "    distortions.append(sum(np.min(cdist(X, kmeanModel.cluster_centers_,'euclidean'), axis=1)) / X.shape[0])\n",
    "    inertias.append(kmeanModel.inertia_)\n",
    "    mapping1[k] = sum(np.min(cdist(X, kmeanModel.cluster_centers_,'euclidean'), axis=1)) / X.shape[0]\n",
    "    mapping2[k] = kmeanModel.inertia_"
   ]
  },
  {
   "cell_type": "raw",
   "metadata": {},
   "source": [
    "plt.plot(K, distortions, 'bx-')\n",
    "plt.xlabel('Values of K')\n",
    "plt.ylabel('Distortion')\n",
    "plt.title('The Elbow Method using Distortion')\n",
    "plt.show()"
   ]
  },
  {
   "cell_type": "raw",
   "metadata": {},
   "source": [
    "plt.plot(K, inertias, 'bx-')\n",
    "plt.xlabel('Values of K')\n",
    "plt.ylabel('Inertia')\n",
    "plt.title('The Elbow Method using Inertia')\n",
    "plt.show()"
   ]
  },
  {
   "cell_type": "code",
   "execution_count": null,
   "metadata": {},
   "outputs": [],
   "source": []
  }
 ],
 "metadata": {
  "kernelspec": {
   "display_name": "Python 3 (ipykernel)",
   "language": "python",
   "name": "python3"
  },
  "language_info": {
   "codemirror_mode": {
    "name": "ipython",
    "version": 3
   },
   "file_extension": ".py",
   "mimetype": "text/x-python",
   "name": "python",
   "nbconvert_exporter": "python",
   "pygments_lexer": "ipython3",
   "version": "3.9.7"
  }
 },
 "nbformat": 4,
 "nbformat_minor": 4
}
